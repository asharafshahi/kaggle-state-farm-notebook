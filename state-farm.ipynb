{
 "cells": [
  {
   "cell_type": "code",
   "execution_count": 1,
   "metadata": {},
   "outputs": [],
   "source": [
    "%matplotlib inline"
   ]
  },
  {
   "cell_type": "code",
   "execution_count": 2,
   "metadata": {},
   "outputs": [
    {
     "name": "stderr",
     "output_type": "stream",
     "text": [
      "Using Theano backend.\n",
      "Using cuDNN version 5103 on context None\n",
      "Mapped name None to device cuda: Tesla K80 (30FC:00:00.0)\n"
     ]
    }
   ],
   "source": [
    "from keras.applications import VGG16\n",
    "#from keras.applications import InceptionResNetV2\n",
    "from keras.preprocessing import image\n",
    "from keras.models import Model, Sequential\n",
    "from keras.layers import Dense, BatchNormalization, Activation, Flatten, Dropout, Conv2D, MaxPooling2D\n",
    "from keras.applications.vgg16 import preprocess_input\n",
    "from keras.optimizers import Adam, Nadam\n",
    "import numpy as np\n",
    "from PIL import Image\n",
    "from scipy.misc import toimage\n",
    "from matplotlib import pyplot as plt\n",
    "\n",
    "train_path = '/home/arman/deep-learning/kaggle-competitions/kaggle-state-farm-notebook/data/train/'\n",
    "valid_path = '/home/arman/deep-learning/kaggle-competitions/kaggle-state-farm-notebook/data/valid/'\n",
    "test_path = '/home/arman/deep-learning/kaggle-competitions/kaggle-state-farm-notebook/data/test/'\n",
    "model_path = '/home/arman/deep-learning/kaggle-competitions/kaggle-state-farm-notebook/'"
   ]
  },
  {
   "cell_type": "markdown",
   "metadata": {
    "heading_collapsed": true
   },
   "source": [
    "## VGG16 "
   ]
  },
  {
   "cell_type": "code",
   "execution_count": 4,
   "metadata": {
    "hidden": true
   },
   "outputs": [],
   "source": [
    "base_model = VGG16(include_top=False, weights='imagenet', input_tensor=None, input_shape=(3, 224, 224), pooling=None, classes=1000)"
   ]
  },
  {
   "cell_type": "code",
   "execution_count": 82,
   "metadata": {
    "collapsed": true,
    "hidden": true
   },
   "outputs": [],
   "source": [
    "#base_model.summary()"
   ]
  },
  {
   "cell_type": "code",
   "execution_count": 83,
   "metadata": {
    "hidden": true
   },
   "outputs": [],
   "source": [
    "dropout_rate = 0.5\n",
    "\n",
    "#base_model.layers.pop()  # remove last max pooling layer\n",
    "x = Flatten()(base_model.layers[-1].output)\n",
    "\n",
    "x = BatchNormalization()(x)\n",
    "#x = Dropout(dropout_rate)(x)\n",
    "\n",
    "x = Dense(1024, kernel_initializer='truncated_normal', activation='relu')(x)\n",
    "x = Dropout(dropout_rate)(x)\n",
    "x = BatchNormalization()(x)\n",
    "\n",
    "x = Dense(1024, kernel_initializer='truncated_normal', activation='relu')(x)\n",
    "#x = BatchNormalization()(x)\n",
    "x = Dropout(dropout_rate)(x)\n",
    "\n",
    "y = Dense(10, kernel_initializer='truncated_normal', name='state_farm_classifier', activation='softmax')(x)\n",
    "\n",
    "inp = base_model.input\n",
    "out = y\n",
    "\n",
    "state_farm_model = Model(inp, out)\n",
    "\n",
    "for i, layer in enumerate(state_farm_model.layers):\n",
    "    if i < 19:\n",
    "        state_farm_model.layers[i].trainable = False\n",
    "    else:\n",
    "        state_farm_model.layers[i].trainable = True"
   ]
  },
  {
   "cell_type": "code",
   "execution_count": 70,
   "metadata": {
    "hidden": true
   },
   "outputs": [],
   "source": [
    "#state_farm_model.summary()"
   ]
  },
  {
   "cell_type": "code",
   "execution_count": null,
   "metadata": {
    "hidden": true
   },
   "outputs": [],
   "source": [
    "for layer in state_farm_model.layers:\n",
    "    print(layer.name + \" \" + str(layer.trainable))"
   ]
  },
  {
   "cell_type": "code",
   "execution_count": 85,
   "metadata": {
    "collapsed": true,
    "hidden": true
   },
   "outputs": [],
   "source": [
    "state_farm_model.compile(optimizer=Adam(lr=0.0005), loss='categorical_crossentropy', metrics=['accuracy'])"
   ]
  },
  {
   "cell_type": "markdown",
   "metadata": {},
   "source": [
    "## Homegrown CNN"
   ]
  },
  {
   "cell_type": "code",
   "execution_count": 4,
   "metadata": {},
   "outputs": [],
   "source": [
    "dropout_rate = 0.5\n",
    "\n",
    "state_farm_model = Sequential()\n",
    "state_farm_model.add(Conv2D(64,3,activation='relu', padding='same', input_shape=(3,224,224)))\n",
    "#state_farm_model.add(Conv2D(64,3,activation='relu', padding='same'))\n",
    "state_farm_model.add(MaxPooling2D())\n",
    "state_farm_model.add(BatchNormalization(axis=1))\n",
    "state_farm_model.add(Conv2D(128,3,activation='relu', padding='same'))\n",
    "#state_farm_model.add(Conv2D(128,3,activation='relu', padding='same'))\n",
    "state_farm_model.add(MaxPooling2D())\n",
    "state_farm_model.add(BatchNormalization(axis=1))\n",
    "state_farm_model.add(Conv2D(256,3,activation='relu', padding='same'))\n",
    "#state_farm_model.add(Conv2D(256,3,activation='relu', padding='same'))\n",
    "#state_farm_model.add(Conv2D(256,3,activation='relu', padding='same'))\n",
    "state_farm_model.add(MaxPooling2D())\n",
    "state_farm_model.add(BatchNormalization(axis=1))\n",
    "state_farm_model.add(Flatten())\n",
    "state_farm_model.add(Dense(256,activation='relu'))\n",
    "state_farm_model.add(Dropout(dropout_rate))\n",
    "state_farm_model.add(BatchNormalization())\n",
    "state_farm_model.add(Dense(256,activation='relu'))\n",
    "state_farm_model.add(Dropout(dropout_rate))\n",
    "state_farm_model.add(BatchNormalization())\n",
    "state_farm_model.add(Dense(10, activation='softmax'))\n",
    "state_farm_model.compile(optimizer=Adam(lr=0.001), loss='categorical_crossentropy', metrics=['accuracy'])\n"
   ]
  },
  {
   "cell_type": "markdown",
   "metadata": {},
   "source": [
    "## Common training code"
   ]
  },
  {
   "cell_type": "code",
   "execution_count": 5,
   "metadata": {},
   "outputs": [
    {
     "name": "stdout",
     "output_type": "stream",
     "text": [
      "Found 19125 images belonging to 10 classes.\n",
      "Found 3299 images belonging to 10 classes.\n"
     ]
    }
   ],
   "source": [
    "batch_size = 32\n",
    "train_gen = image.ImageDataGenerator(rotation_range=15, width_shift_range=0.10, height_shift_range=0.05, # zoom_range=0.1,\n",
    "                                     shear_range=0.1, channel_shift_range=20)\n",
    "valid_gen = image.ImageDataGenerator()\n",
    "train_batches = train_gen.flow_from_directory(train_path, target_size=(224,224), shuffle=True, batch_size=batch_size, class_mode='categorical')\n",
    "valid_batches = valid_gen.flow_from_directory(valid_path, target_size=(224,224), shuffle=False, batch_size=batch_size*2, class_mode='categorical')\n",
    "steps_per_epoch = int(np.ceil(train_batches.samples/batch_size))\n",
    "validation_steps = int(np.ceil(valid_batches.samples/(batch_size*2)))"
   ]
  },
  {
   "cell_type": "raw",
   "metadata": {},
   "source": [
    "x_set, y_set = train_batches.next()\n",
    "im = x_set[0]\n",
    "im = np.rollaxis(im,0,3)\n",
    "im = 255 - im\n",
    "plt.imshow(im)\n",
    "plt.show()"
   ]
  },
  {
   "cell_type": "code",
   "execution_count": 6,
   "metadata": {
    "code_folding": []
   },
   "outputs": [
    {
     "name": "stdout",
     "output_type": "stream",
     "text": [
      "Epoch 1/1\n",
      "598/598 [==============================] - 306s - loss: 2.4605 - acc: 0.1672 - val_loss: 2.3662 - val_acc: 0.2261\n"
     ]
    },
    {
     "data": {
      "text/plain": [
       "<keras.callbacks.History at 0x7f88472b2780>"
      ]
     },
     "execution_count": 6,
     "metadata": {},
     "output_type": "execute_result"
    }
   ],
   "source": [
    "state_farm_model.fit_generator(train_batches, steps_per_epoch=steps_per_epoch, epochs=1, \n",
    "                    validation_data = valid_batches, validation_steps=validation_steps)"
   ]
  },
  {
   "cell_type": "code",
   "execution_count": 14,
   "metadata": {},
   "outputs": [],
   "source": [
    "state_farm_model.optimizer.lr.set_value(0.01)"
   ]
  },
  {
   "cell_type": "code",
   "execution_count": 10,
   "metadata": {},
   "outputs": [],
   "source": [
    "state_farm_model.save_weights(model_path + 'state_farm.h5')"
   ]
  },
  {
   "cell_type": "markdown",
   "metadata": {
    "heading_collapsed": true
   },
   "source": [
    "## Kaggle submission code"
   ]
  },
  {
   "cell_type": "code",
   "execution_count": null,
   "metadata": {
    "hidden": true
   },
   "outputs": [],
   "source": [
    "test_gen = image.ImageDataGenerator()\n",
    "test_batches = test_gen.flow_from_directory(test_path, target_size=(224,224), shuffle=False, batch_size=8, class_mode=None)\n",
    "steps = int(np.ceil(test_batches.samples/8))\n"
   ]
  },
  {
   "cell_type": "code",
   "execution_count": 33,
   "metadata": {
    "collapsed": true,
    "hidden": true
   },
   "outputs": [],
   "source": [
    "pred_gen = state_farm_model.predict_generator(test_batches, steps)"
   ]
  },
  {
   "cell_type": "code",
   "execution_count": null,
   "metadata": {
    "hidden": true
   },
   "outputs": [],
   "source": [
    "pred_gen.shape\n",
    "#Image.open(test_path + test_batches.filenames[5])\n",
    "#print(test_batches.filenames[0])"
   ]
  },
  {
   "cell_type": "code",
   "execution_count": null,
   "metadata": {
    "hidden": true
   },
   "outputs": [],
   "source": [
    "#probabilities = pred_gen.clip(min=0.05, max=0.95)"
   ]
  },
  {
   "cell_type": "code",
   "execution_count": 21,
   "metadata": {
    "hidden": true
   },
   "outputs": [],
   "source": [
    "ids = [element[8:] for element in test_batches.filenames]\n",
    "ids = np.asarray(ids).reshape(-1,1)\n",
    "print(pred_gen.shape)\n",
    "print(ids.shape)"
   ]
  },
  {
   "cell_type": "code",
   "execution_count": 54,
   "metadata": {
    "collapsed": true,
    "hidden": true
   },
   "outputs": [],
   "source": [
    "results = np.concatenate([ids,pred_gen], axis=-1)\n",
    "results.shape"
   ]
  },
  {
   "cell_type": "code",
   "execution_count": null,
   "metadata": {
    "hidden": true
   },
   "outputs": [],
   "source": [
    "submission_file_name = '/home/arman/deep-learning/kaggle-competitions/kaggle-state-farm-notebook/submission1.csv'\n",
    "np.savetxt(submission_file_name, results, fmt='%5s',delimiter=',', header='img,c0,c1,c2,c3,c4,c5,c6,c7,c8,c9')"
   ]
  }
 ],
 "metadata": {
  "kernelspec": {
   "display_name": "Python 3",
   "language": "python",
   "name": "python3"
  },
  "language_info": {
   "codemirror_mode": {
    "name": "ipython",
    "version": 3
   },
   "file_extension": ".py",
   "mimetype": "text/x-python",
   "name": "python",
   "nbconvert_exporter": "python",
   "pygments_lexer": "ipython3",
   "version": "3.5.4"
  },
  "notify_time": "5",
  "varInspector": {
   "cols": {
    "lenName": 16,
    "lenType": 16,
    "lenVar": 40
   },
   "kernels_config": {
    "python": {
     "delete_cmd_postfix": "",
     "delete_cmd_prefix": "del ",
     "library": "var_list.py",
     "varRefreshCmd": "print(var_dic_list())"
    },
    "r": {
     "delete_cmd_postfix": ") ",
     "delete_cmd_prefix": "rm(",
     "library": "var_list.r",
     "varRefreshCmd": "cat(var_dic_list()) "
    }
   },
   "oldHeight": 275.666666,
   "position": {
    "height": "602px",
    "left": "1370px",
    "right": "20px",
    "top": "198px",
    "width": "600px"
   },
   "types_to_exclude": [
    "module",
    "function",
    "builtin_function_or_method",
    "instance",
    "_Feature"
   ],
   "varInspector_section_display": "block",
   "window_display": false
  }
 },
 "nbformat": 4,
 "nbformat_minor": 2
}
