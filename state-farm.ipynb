{
 "cells": [
  {
   "cell_type": "code",
   "execution_count": 1,
   "metadata": {
    "collapsed": true
   },
   "outputs": [],
   "source": [
    "%matplotlib inline"
   ]
  },
  {
   "cell_type": "code",
   "execution_count": 2,
   "metadata": {},
   "outputs": [
    {
     "name": "stderr",
     "output_type": "stream",
     "text": [
      "Using Theano backend.\n",
      "Using cuDNN version 5103 on context None\n",
      "Mapped name None to device cuda: Tesla K80 (30FC:00:00.0)\n"
     ]
    }
   ],
   "source": [
    "from keras.applications import VGG16\n",
    "#from keras.applications import InceptionResNetV2"
   ]
  },
  {
   "cell_type": "code",
   "execution_count": 3,
   "metadata": {
    "collapsed": true
   },
   "outputs": [],
   "source": [
    "from keras.preprocessing import image\n",
    "from keras.models import Model\n",
    "from keras.layers import Dense, BatchNormalization, Activation, Flatten\n",
    "from keras.applications.vgg16 import preprocess_input\n",
    "from keras.optimizers import Adam, Nadam\n",
    "import numpy as np\n",
    "from PIL import Image"
   ]
  },
  {
   "cell_type": "code",
   "execution_count": 4,
   "metadata": {
    "collapsed": true
   },
   "outputs": [],
   "source": [
    "base_model = VGG16(include_top=False, weights=None, input_tensor=None, input_shape=(3, 224, 224), pooling=None, classes=1000)"
   ]
  },
  {
   "cell_type": "code",
   "execution_count": 5,
   "metadata": {
    "collapsed": true
   },
   "outputs": [],
   "source": [
    "train_path = '/home/arman/deep-learning/kaggle-competitions/kaggle-state-farm-notebook/data/train/'\n",
    "valid_path = '/home/arman/deep-learning/kaggle-competitions/kaggle-state-farm-notebook/data/valid/'\n",
    "test_path = '/home/arman/deep-learning/kaggle-competitions/kaggle-state-farm-notebook/data/test/'\n",
    "model_path = '/home/arman/deep-learning/kaggle-competitions/kaggle-state-farm-notebook/'"
   ]
  },
  {
   "cell_type": "code",
   "execution_count": 7,
   "metadata": {},
   "outputs": [],
   "source": [
    "#base_model.summary()"
   ]
  },
  {
   "cell_type": "code",
   "execution_count": 8,
   "metadata": {},
   "outputs": [],
   "source": [
    "flat = Flatten()(base_model.layers[-1].output)\n",
    "new_fc1 = Dense(4096, use_bias=False, kernel_initializer='uniform')(flat)\n",
    "bn1 = BatchNormalization()(new_fc1)\n",
    "act1 = Activation('relu')(bn1)\n",
    "# try adding drop out later\n",
    "\n",
    "new_fc2 = Dense(4096, use_bias=False, kernel_initializer='uniform')(act1)\n",
    "bn2 = BatchNormalization()(new_fc2)\n",
    "act2 = Activation('relu')(bn2)\n",
    "\n",
    "new_classifier = Dense(10, kernel_initializer='uniform', name='state_farm_classifier')(act2)\n",
    "#bn3 = BatchNormalization()(new_classifier)\n",
    "act3 = Activation('softmax')(new_classifier)\n",
    "\n",
    "inp = base_model.input\n",
    "out = act3\n",
    "\n",
    "state_farm_model = Model(inp, out)\n",
    "\n",
    "for i, layer in enumerate(state_farm_model.layers):\n",
    "    if i < 19:\n",
    "        state_farm_model.layers[i].trainable = False\n",
    "    else:\n",
    "        state_farm_model.layers[i].trainable = True"
   ]
  },
  {
   "cell_type": "code",
   "execution_count": 10,
   "metadata": {},
   "outputs": [],
   "source": [
    "#state_farm_model.summary()"
   ]
  },
  {
   "cell_type": "code",
   "execution_count": 11,
   "metadata": {},
   "outputs": [
    {
     "name": "stdout",
     "output_type": "stream",
     "text": [
      "input_1 False\n",
      "block1_conv1 False\n",
      "block1_conv2 False\n",
      "block1_pool False\n",
      "block2_conv1 False\n",
      "block2_conv2 False\n",
      "block2_pool False\n",
      "block3_conv1 False\n",
      "block3_conv2 False\n",
      "block3_conv3 False\n",
      "block3_pool False\n",
      "block4_conv1 False\n",
      "block4_conv2 False\n",
      "block4_conv3 False\n",
      "block4_pool False\n",
      "block5_conv1 False\n",
      "block5_conv2 False\n",
      "block5_conv3 False\n",
      "block5_pool False\n",
      "flatten_1 True\n",
      "dense_1 True\n",
      "batch_normalization_1 True\n",
      "activation_1 True\n",
      "dense_2 True\n",
      "batch_normalization_2 True\n",
      "activation_2 True\n",
      "state_farm_classifier True\n",
      "activation_3 True\n"
     ]
    }
   ],
   "source": [
    "for layer in state_farm_model.layers:\n",
    "    print(layer.name + \" \" + str(layer.trainable))"
   ]
  },
  {
   "cell_type": "code",
   "execution_count": 12,
   "metadata": {
    "collapsed": true
   },
   "outputs": [],
   "source": [
    "state_farm_model.compile(optimizer=Adam(lr=0.001), loss='categorical_crossentropy', metrics=['accuracy'])"
   ]
  },
  {
   "cell_type": "code",
   "execution_count": 13,
   "metadata": {},
   "outputs": [
    {
     "name": "stdout",
     "output_type": "stream",
     "text": [
      "Found 18047 images belonging to 10 classes.\n",
      "Found 4377 images belonging to 10 classes.\n"
     ]
    }
   ],
   "source": [
    "train_gen = image.ImageDataGenerator()\n",
    "valid_gen = image.ImageDataGenerator()\n",
    "train_batches = train_gen.flow_from_directory(train_path, target_size=(224,224), shuffle=True, batch_size=8, class_mode='categorical')\n",
    "valid_batches = valid_gen.flow_from_directory(valid_path, target_size=(224,224), shuffle=True, batch_size=8, class_mode='categorical')"
   ]
  },
  {
   "cell_type": "code",
   "execution_count": null,
   "metadata": {},
   "outputs": [
    {
     "name": "stdout",
     "output_type": "stream",
     "text": [
      "Epoch 1/5\n",
      "564/564 [==============================] - 150s - loss: 0.0846 - acc: 0.9743 - val_loss: 9.2368 - val_acc: 0.2089\n",
      "Epoch 2/5\n",
      "564/564 [==============================] - 151s - loss: 0.0840 - acc: 0.9752 - val_loss: 9.2465 - val_acc: 0.1843\n",
      "Epoch 3/5\n",
      "564/564 [==============================] - 152s - loss: 0.0659 - acc: 0.9783 - val_loss: 8.7220 - val_acc: 0.1919\n",
      "Epoch 4/5\n",
      "232/564 [===========>..................] - ETA: 75s - loss: 0.0613 - acc: 0.9806"
     ]
    }
   ],
   "source": [
    "state_farm_model.fit_generator(train_batches, steps_per_epoch=int(np.ceil(train_batches.samples/32)), epochs=5, \n",
    "                    validation_data = valid_batches, validation_steps=int(np.ceil(valid_batches.samples/32)) )"
   ]
  },
  {
   "cell_type": "code",
   "execution_count": 21,
   "metadata": {},
   "outputs": [
    {
     "name": "stdout",
     "output_type": "stream",
     "text": [
      "9.999999747378752e-05\n"
     ]
    }
   ],
   "source": [
    "state_farm_model.optimizer.lr.set_value(0.0001)\n",
    "print(state_farm_model.optimizer.lr.get_value())"
   ]
  },
  {
   "cell_type": "code",
   "execution_count": 20,
   "metadata": {
    "collapsed": true
   },
   "outputs": [],
   "source": [
    "state_farm_model.save_weights(model_path + 'state_farm.h5')"
   ]
  },
  {
   "cell_type": "code",
   "execution_count": 21,
   "metadata": {},
   "outputs": [
    {
     "name": "stdout",
     "output_type": "stream",
     "text": [
      "Found 79726 images belonging to 1 classes.\n"
     ]
    }
   ],
   "source": [
    "test_gen = image.ImageDataGenerator()\n",
    "test_batches = test_gen.flow_from_directory(test_path, target_size=(224,224), shuffle=False, batch_size=8, class_mode=None)"
   ]
  },
  {
   "cell_type": "code",
   "execution_count": 22,
   "metadata": {
    "collapsed": true
   },
   "outputs": [],
   "source": [
    "steps = int(np.ceil(test_batches.samples/8))"
   ]
  },
  {
   "cell_type": "code",
   "execution_count": 23,
   "metadata": {
    "collapsed": true
   },
   "outputs": [],
   "source": [
    "pred_gen = state_farm_model.predict_generator(test_batches, steps)"
   ]
  },
  {
   "cell_type": "code",
   "execution_count": 24,
   "metadata": {},
   "outputs": [
    {
     "data": {
      "text/plain": [
       "(79726, 10)"
      ]
     },
     "execution_count": 24,
     "metadata": {},
     "output_type": "execute_result"
    }
   ],
   "source": [
    "pred_gen.shape"
   ]
  },
  {
   "cell_type": "code",
   "execution_count": 51,
   "metadata": {
    "collapsed": true
   },
   "outputs": [],
   "source": [
    "#Image.open(test_path + test_batches.filenames[3])\n",
    "#print(test_batches.filenames[0])"
   ]
  },
  {
   "cell_type": "code",
   "execution_count": 54,
   "metadata": {
    "collapsed": true
   },
   "outputs": [],
   "source": [
    "#probabilities = pred_gen.clip(min=0.05, max=0.95)"
   ]
  },
  {
   "cell_type": "code",
   "execution_count": 25,
   "metadata": {},
   "outputs": [
    {
     "name": "stdout",
     "output_type": "stream",
     "text": [
      "(79726, 10)\n",
      "(79726, 1)\n"
     ]
    }
   ],
   "source": [
    "ids = [element[8:] for element in test_batches.filenames]\n",
    "ids = np.asarray(ids).reshape(-1,1)\n",
    "print(pred_gen.shape)\n",
    "print(ids.shape)"
   ]
  },
  {
   "cell_type": "code",
   "execution_count": 26,
   "metadata": {},
   "outputs": [
    {
     "data": {
      "text/plain": [
       "(79726, 11)"
      ]
     },
     "execution_count": 26,
     "metadata": {},
     "output_type": "execute_result"
    }
   ],
   "source": [
    "results = np.concatenate([ids,pred_gen], axis=-1)\n",
    "results.shape"
   ]
  },
  {
   "cell_type": "code",
   "execution_count": 27,
   "metadata": {
    "collapsed": true
   },
   "outputs": [],
   "source": [
    "submission_file_name = '/home/arman/deep-learning/kaggle-competitions/kaggle-state-farm-notebook/submission1.csv'"
   ]
  },
  {
   "cell_type": "code",
   "execution_count": 71,
   "metadata": {
    "collapsed": true
   },
   "outputs": [],
   "source": [
    "#with open(submission_file_name,'wb') as f:\n",
    "#    np.savetxt(f, results, fmt='%s, %.5f, %.5f, %.5f, %.5f, %.5f, %.5f, %.5f, %.5f, %.5f, %.5f', \n",
    "#    header='img,c0,c1,c2,c3,c4,c5,c6,c7,c8,c9', comments='')"
   ]
  },
  {
   "cell_type": "code",
   "execution_count": 28,
   "metadata": {
    "collapsed": true
   },
   "outputs": [],
   "source": [
    "np.savetxt(submission_file_name, results, fmt='%5s',delimiter=',', header='img,c0,c1,c2,c3,c4,c5,c6,c7,c8,c9')"
   ]
  },
  {
   "cell_type": "code",
   "execution_count": null,
   "metadata": {
    "collapsed": true
   },
   "outputs": [],
   "source": []
  }
 ],
 "metadata": {
  "kernelspec": {
   "display_name": "Python 3",
   "language": "python",
   "name": "python3"
  },
  "language_info": {
   "codemirror_mode": {
    "name": "ipython",
    "version": 3
   },
   "file_extension": ".py",
   "mimetype": "text/x-python",
   "name": "python",
   "nbconvert_exporter": "python",
   "pygments_lexer": "ipython3",
   "version": "3.5.4"
  }
 },
 "nbformat": 4,
 "nbformat_minor": 2
}
