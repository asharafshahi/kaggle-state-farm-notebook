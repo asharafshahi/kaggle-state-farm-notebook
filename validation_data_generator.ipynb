{
 "cells": [
  {
   "cell_type": "code",
   "execution_count": 18,
   "metadata": {},
   "outputs": [],
   "source": [
    "import sys\n",
    "import os.path\n",
    "import pathlib\n",
    "import shutil\n",
    "import csv\n",
    "from ipywidgets import interact\n",
    "from matplotlib import pyplot as plt\n",
    "from PIL import Image\n",
    "import numpy as np"
   ]
  },
  {
   "cell_type": "code",
   "execution_count": 2,
   "metadata": {},
   "outputs": [],
   "source": [
    "img_set = []\n",
    "img_set.append(('p002','p012','p014','p015'))\n",
    "img_set.append(('p016','p021','p022','p024'))\n",
    "img_set.append(('p026','p035','p039','p041','p042')) \n",
    "img_set.append(('p045','p047','p049','p050','p051'))\n",
    "img_set.append(('p052','p056','p061','p064'))\n",
    "img_set.append(('p066','p072','p075','p081'))\n",
    "\n",
    "classes = ('c0','c1','c2','c3','c4','c5','c6','c7','c8','c9')\n",
    "full_data_path = '/home/arman/deep-learning/kaggle-competitions/kaggle-state-farm-notebook/data/full/'\n",
    "train_data_path = '/home/arman/deep-learning/kaggle-competitions/kaggle-state-farm-notebook/data/train/'\n",
    "valid_data_path = '/home/arman/deep-learning/kaggle-competitions/kaggle-state-farm-notebook/data/valid/'"
   ]
  },
  {
   "cell_type": "code",
   "execution_count": null,
   "metadata": {},
   "outputs": [],
   "source": [
    "def makeValidationSet(valSetNum = 0):\n",
    "    # wipe out old train and valid folders and recreate empty class folders\n",
    "    shutil.rmtree(train_data_path, ignore_errors=True)\n",
    "    shutil.rmtree(valid_data_path, ignore_errors=True)\n",
    "    for class_folder in classes:\n",
    "        pathlib.Path(os.path.join(train_data_path, class_folder)).mkdir(parents=True, exist_ok=True)\n",
    "        pathlib.Path(os.path.join(valid_data_path, class_folder)).mkdir(parents=True, exist_ok=True)\n",
    "     \n",
    "    # read through CSV file listing and copy appropriate images into train / valid class folders\n",
    "    with open('driver_imgs_list.csv', 'r') as csvfile:\n",
    "        for i, row in enumerate(csv.reader(csvfile)):      \n",
    "            if i >= 1: \n",
    "                if row[0] in img_set[valSetNum]:   # this person / image belongs in validation set\n",
    "                    shutil.copy2(os.path.join(full_data_path,row[1],row[2]), \n",
    "                                 os.path.join(valid_data_path, row[1], row[2]))\n",
    "                else:\n",
    "                    shutil.copy2(os.path.join(full_data_path,row[1],row[2]), \n",
    "                                 os.path.join(train_data_path, row[1], row[2]))"
   ]
  },
  {
   "cell_type": "code",
   "execution_count": 45,
   "metadata": {
    "collapsed": true
   },
   "outputs": [],
   "source": [
    "makeValidationSet(0)"
   ]
  },
  {
   "cell_type": "code",
   "execution_count": 20,
   "metadata": {},
   "outputs": [],
   "source": [
    "def browse_images(imgs, labels=None):\n",
    "    n = len(imgs)\n",
    "    def view_image(i):\n",
    "        label = 'None'\n",
    "        plt.figure(figsize=(12,6))\n",
    "        plt.imshow(imgs[i].astype(np.uint8)) \n",
    "        if labels is not None:\n",
    "            label = np.argmax(labels[i])\n",
    "        plt.title('Image: %s Label: %s' % (i, label))\n",
    "        plt.show()\n",
    "    interact(view_image, i=(0,n-1))"
   ]
  },
  {
   "cell_type": "code",
   "execution_count": 31,
   "metadata": {},
   "outputs": [
    {
     "data": {
      "application/vnd.jupyter.widget-view+json": {
       "model_id": "a842ce12a31a42f4a64dea2bb6c21ea8",
       "version_major": 2,
       "version_minor": 0
      },
      "text/plain": [
       "A Jupyter Widget"
      ]
     },
     "metadata": {},
     "output_type": "display_data"
    }
   ],
   "source": [
    "import glob\n",
    "filelist = glob.glob(os.path.join(valid_data_path,'c5/*.jpg'))\n",
    "x = np.array([np.array(Image.open(fname)) for fname in filelist[0:20]])                  \n",
    "browse_images(x)"
   ]
  },
  {
   "cell_type": "code",
   "execution_count": null,
   "metadata": {},
   "outputs": [],
   "source": []
  }
 ],
 "metadata": {
  "kernelspec": {
   "display_name": "Python 3",
   "language": "python",
   "name": "python3"
  },
  "language_info": {
   "codemirror_mode": {
    "name": "ipython",
    "version": 3
   },
   "file_extension": ".py",
   "mimetype": "text/x-python",
   "name": "python",
   "nbconvert_exporter": "python",
   "pygments_lexer": "ipython3",
   "version": "3.5.4"
  },
  "varInspector": {
   "cols": {
    "lenName": 16,
    "lenType": 16,
    "lenVar": 40
   },
   "kernels_config": {
    "python": {
     "delete_cmd_postfix": "",
     "delete_cmd_prefix": "del ",
     "library": "var_list.py",
     "varRefreshCmd": "print(var_dic_list())"
    },
    "r": {
     "delete_cmd_postfix": ") ",
     "delete_cmd_prefix": "rm(",
     "library": "var_list.r",
     "varRefreshCmd": "cat(var_dic_list()) "
    }
   },
   "types_to_exclude": [
    "module",
    "function",
    "builtin_function_or_method",
    "instance",
    "_Feature"
   ],
   "window_display": false
  }
 },
 "nbformat": 4,
 "nbformat_minor": 2
}
