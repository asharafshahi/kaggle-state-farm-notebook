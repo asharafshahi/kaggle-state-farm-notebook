{
 "cells": [
  {
   "cell_type": "code",
   "execution_count": 38,
   "metadata": {
    "collapsed": true
   },
   "outputs": [],
   "source": [
    "import sys\n",
    "import os.path\n",
    "import pathlib\n",
    "import shutil\n",
    "import csv"
   ]
  },
  {
   "cell_type": "code",
   "execution_count": 39,
   "metadata": {
    "collapsed": true
   },
   "outputs": [],
   "source": [
    "img_set = []\n",
    "img_set.append(('p002','p012','p014','p015','p016'))\n",
    "img_set.append(('p021','p022','p024','p026'))\n",
    "img_set.append(('p035','p039','p041','p042','p045','p047')) \n",
    "img_set.append(('p049','p050','p051','p052','p056'))\n",
    "img_set.append(('p061','p064','p066','p072','p075','p081'))\n",
    "classes = ('c0','c1','c2','c3','c4','c5','c6','c7','c8','c9')\n",
    "full_data_path = '/home/arman/deep-learning/kaggle-competitions/kaggle-state-farm-notebook/data/full/'\n",
    "train_data_path = '/home/arman/deep-learning/kaggle-competitions/kaggle-state-farm-notebook/data/train/'\n",
    "valid_data_path = '/home/arman/deep-learning/kaggle-competitions/kaggle-state-farm-notebook/data/valid/'"
   ]
  },
  {
   "cell_type": "code",
   "execution_count": 40,
   "metadata": {
    "collapsed": true
   },
   "outputs": [],
   "source": [
    "def makeValidationSet(valSetNum = 0):\n",
    "    # wipe out old train and valid folders and recreate empty class folders\n",
    "    shutil.rmtree(train_data_path, ignore_errors=True)\n",
    "    shutil.rmtree(valid_data_path, ignore_errors=True)\n",
    "    for class_folder in classes:\n",
    "        pathlib.Path(os.path.join(train_data_path, class_folder)).mkdir(parents=True, exist_ok=True)\n",
    "        pathlib.Path(os.path.join(valid_data_path, class_folder)).mkdir(parents=True, exist_ok=True)\n",
    "     \n",
    "    # read through CSV file listing and copy appropriate images into train / valid class folders\n",
    "    with open('driver_imgs_list.csv', 'r') as csvfile:\n",
    "        for i, row in enumerate(csv.reader(csvfile)):      \n",
    "            if i >= 1: \n",
    "                if row[0] in img_set[valSetNum]:   # this person / image belongs in validation set\n",
    "                    shutil.copy2(os.path.join(full_data_path,row[1],row[2]), \n",
    "                                 os.path.join(valid_data_path, row[1], row[2]))\n",
    "                else:\n",
    "                    shutil.copy2(os.path.join(full_data_path,row[1],row[2]), \n",
    "                                 os.path.join(train_data_path, row[1], row[2]))"
   ]
  },
  {
   "cell_type": "code",
   "execution_count": 41,
   "metadata": {
    "collapsed": true
   },
   "outputs": [],
   "source": [
    "makeValidationSet(0)"
   ]
  },
  {
   "cell_type": "code",
   "execution_count": null,
   "metadata": {
    "collapsed": true
   },
   "outputs": [],
   "source": []
  }
 ],
 "metadata": {
  "kernelspec": {
   "display_name": "Python 3",
   "language": "python",
   "name": "python3"
  },
  "language_info": {
   "codemirror_mode": {
    "name": "ipython",
    "version": 3
   },
   "file_extension": ".py",
   "mimetype": "text/x-python",
   "name": "python",
   "nbconvert_exporter": "python",
   "pygments_lexer": "ipython3",
   "version": "3.5.4"
  }
 },
 "nbformat": 4,
 "nbformat_minor": 2
}
